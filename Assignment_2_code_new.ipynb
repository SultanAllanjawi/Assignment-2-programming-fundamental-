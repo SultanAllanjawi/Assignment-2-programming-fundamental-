{
  "nbformat": 4,
  "nbformat_minor": 0,
  "metadata": {
    "colab": {
      "provenance": []
    },
    "kernelspec": {
      "name": "python3",
      "display_name": "Python 3"
    },
    "language_info": {
      "name": "python"
    }
  },
  "cells": [
    {
      "cell_type": "code",
      "execution_count": 8,
      "metadata": {
        "id": "rBlfu48-dlcE"
      },
      "outputs": [],
      "source": [
        "\n",
        "\n",
        "class Room:\n",
        "    \"\"\"\n",
        "    Represents a hotel room with specific details.\n",
        "\n",
        "    \"\"\"\n",
        "    def __init__(self, room_number, room_type, amenities, price_per_night, is_available=True):\n",
        "        self.__room_number = room_number\n",
        "        self.__type = room_type\n",
        "        self.__amenities = amenities\n",
        "        self.__price_per_night = price_per_night\n",
        "        self.__is_available = is_available\n",
        "\n",
        "    def check_availability(self):\n",
        "        return self.__is_available\n",
        "\n",
        "    def set_availability(self, availability):\n",
        "        self.__is_available = availability\n",
        "\n",
        "    def get_price(self):\n",
        "        return self.__price_per_night\n",
        "\n",
        "    def __str__(self):\n",
        "        return f\"Room {self.__room_number} ({self.__type}) - {'Available' if self.__is_available else 'Booked'}\"\n",
        "\n",
        "\n",
        "class Guest:\n",
        "    \"\"\"\n",
        "    Represents a hotel guest.\n",
        "\n",
        "    \"\"\"\n",
        "    def __init__(self, guest_id, name, email, contact_info):\n",
        "        self.__guest_id = guest_id\n",
        "        self.__name = name\n",
        "        self.__email = email\n",
        "        self.__contact_info = contact_info\n",
        "        self.__loyalty_pts = 0\n",
        "        self.__reservations = []\n",
        "\n",
        "    def update_profile(self, name=None, email=None, contact_info=None):\n",
        "        if name: self.__name = name\n",
        "        if email: self.__email = email\n",
        "        if contact_info: self.__contact_info = contact_info\n",
        "\n",
        "    def add_reservation(self, reservation):\n",
        "        self.__reservations.append(reservation)\n",
        "\n",
        "    def view_history(self):\n",
        "        return self.__reservations\n",
        "\n",
        "    def __str__(self):\n",
        "        return f\"Guest: {self.__name}, Email: {self.__email}\"\n",
        "\n",
        "\n",
        "class Reservation:\n",
        "    \"\"\"\n",
        "    Represents a reservation made by a guest for a specific room.\n",
        "\n",
        "    \"\"\"\n",
        "    def __init__(self, reservation_id, guest, room, check_in, check_out):\n",
        "        self.__reservation_id = reservation_id\n",
        "        self.__guest = guest\n",
        "        self.__room = room\n",
        "        self.__check_in = check_in\n",
        "        self.__check_out = check_out\n",
        "        self.__status = \"Pending\"\n",
        "\n",
        "    def calculate_total(self):\n",
        "        nights = (self.__check_out - self.__check_in).days\n",
        "        return nights * self.__room.get_price()\n",
        "\n",
        "    def confirm_reservation(self):\n",
        "        self.__status = \"Confirmed\"\n",
        "        self.__room.set_availability(False)\n",
        "\n",
        "    def cancel_reservation(self):\n",
        "        self.__status = \"Cancelled\"\n",
        "        self.__room.set_availability(True)\n",
        "\n",
        "    def __str__(self):\n",
        "        return f\"Reservation {self.__reservation_id}: {self.__status}\"\n",
        "\n",
        "\n",
        "class Invoice:\n",
        "    \"\"\"\n",
        "    Represents an invoice for a reservation.\n",
        "\n",
        "    \"\"\"\n",
        "    def __init__(self, invoice_id, reservation, charges=None, discounts=0):\n",
        "        self.__invoice_id = invoice_id\n",
        "        self.__reservation = reservation\n",
        "        self.__charges = charges if charges else []\n",
        "        self.__discounts = discounts\n",
        "        self.__total_amount = 0\n",
        "\n",
        "    def generate_invoice(self):\n",
        "        base = self.__reservation.calculate_total()\n",
        "        extra = sum(self.__charges)\n",
        "        self.__total_amount = base + extra - self.__discounts\n",
        "        return self.__total_amount\n",
        "\n",
        "    def __str__(self):\n",
        "        return f\"Invoice {self.__invoice_id} - Total: ${self.__total_amount}\"\n",
        "\n",
        "\n",
        "class Payment:\n",
        "    \"\"\"\n",
        "    Represents a payment transaction.\n",
        "\n",
        "    \"\"\"\n",
        "    def __init__(self, payment_id, amount, method, date):\n",
        "        self.__payment_id = payment_id\n",
        "        self.__amount = amount\n",
        "        self.__method = method\n",
        "        self.__date = date\n",
        "        self.__status = \"Pending\"\n",
        "\n",
        "    def process_payment(self):\n",
        "        self.__status = \"Paid\"\n",
        "\n",
        "    def __str__(self):\n",
        "        return f\"Payment {self.__payment_id} - {self.__status} via {self.__method}\"\n",
        "\n",
        "\n",
        "class LoyaltyProgram:\n",
        "    \"\"\"\n",
        "    Manages the loyalty points of a guest.\n",
        "\n",
        "    \"\"\"\n",
        "    def __init__(self):\n",
        "        self.__points = 0\n",
        "\n",
        "    def add_points(self, points):\n",
        "        self.__points += points\n",
        "\n",
        "    def redeem_points(self, amount):\n",
        "        if amount <= self.__points:\n",
        "            self.__points -= amount\n",
        "            return True\n",
        "        return False\n",
        "\n",
        "    def view_rewards(self):\n",
        "        return self.__points\n",
        "\n",
        "    def __str__(self):\n",
        "        return f\"Loyalty Points: {self.__points}\"\n",
        "\n",
        "\n",
        "class ServiceRequest:\n",
        "    \"\"\"\n",
        "    Represents a guest's service request (e.g., housekeeping).\n",
        "\n",
        "    \"\"\"\n",
        "    def __init__(self, request_id, guest, request_type):\n",
        "        self.__request_id = request_id\n",
        "        self.__guest = guest\n",
        "        self.__request_type = request_type\n",
        "        self.__status = \"Pending\"\n",
        "        self.__assigned_to = None\n",
        "\n",
        "    def submit_request(self):\n",
        "        self.__status = \"Submitted\"\n",
        "\n",
        "    def update_status(self, new_status):\n",
        "        self.__status = new_status\n",
        "\n",
        "    def __str__(self):\n",
        "        return f\"ServiceRequest {self.__request_id} - {self.__request_type} [{self.__status}]\"\n",
        "\n",
        "\n",
        "class Feedback:\n",
        "    \"\"\"\n",
        "    Stores guest feedback about their stay.\n",
        "\n",
        "    \"\"\"\n",
        "    def __init__(self, feedback_id, guest, rating, comment):\n",
        "        self.__feedback_id = feedback_id\n",
        "        self.__guest = guest\n",
        "        self.__rating = rating\n",
        "        self.__comment = comment\n",
        "\n",
        "    def submit_feedback(self):\n",
        "        return f\"Feedback {self.__feedback_id} submitted with rating {self.__rating}\"\n",
        "\n",
        "    def __str__(self):\n",
        "        return f\"Feedback: {self.__rating}/5 - {self.__comment}\"\n"
      ]
    },
    {
      "cell_type": "code",
      "source": [
        "from datetime import date\n",
        "\n",
        "# Create guest and room\n",
        "guest1 = Guest(\"1\", \"Sultan Allanjawi\", \"Sultan@gmail.com\", \"055-444-444\")\n",
        "room1 = Room(\"101\", \"Suite\", [\"Wi-Fi\", \"TV\", \"snacks\"], 150.0)\n",
        "\n",
        "# Create reservation\n",
        "reservation1 = Reservation(\"R1\", guest1, room1, date(2025, 4, 1), date(2025, 4, 4))\n",
        "guest1.add_reservation(reservation1)\n",
        "reservation1.confirm_reservation()\n",
        "\n",
        "print(guest1)\n",
        "print(room1)\n",
        "print(reservation1)\n"
      ],
      "metadata": {
        "colab": {
          "base_uri": "https://localhost:8080/"
        },
        "id": "AfcYuQqOeMUc",
        "outputId": "f2577551-4fcf-4f40-b28b-cb095b54fc92"
      },
      "execution_count": 7,
      "outputs": [
        {
          "output_type": "stream",
          "name": "stdout",
          "text": [
            "Guest: Sultan Allanjawi, Email: Sultan@gmail.com\n",
            "Room 101 (Suite) - Booked\n",
            "Reservation R1: Confirmed\n"
          ]
        }
      ]
    },
    {
      "cell_type": "code",
      "source": [
        "# Create invoice for the reservation\n",
        "invoice1 = Invoice(\"Inv1\", reservation1, charges=[20, 30], discounts=25)\n",
        "total = invoice1.generate_invoice()\n",
        "\n",
        "# Make payment\n",
        "payment1 = Payment(\"P1\", total, \"Credit Card\", date(2025, 3, 27))\n",
        "payment1.process_payment()\n",
        "\n",
        "print(invoice1)\n",
        "print(payment1)\n"
      ],
      "metadata": {
        "colab": {
          "base_uri": "https://localhost:8080/"
        },
        "id": "KYuPcVSMejCn",
        "outputId": "af6b8195-f92b-43de-c20f-87ce804f30dc"
      },
      "execution_count": 6,
      "outputs": [
        {
          "output_type": "stream",
          "name": "stdout",
          "text": [
            "Invoice Inv1 - Total: $475.0\n",
            "Payment P1 - Paid via Credit Card\n"
          ]
        }
      ]
    },
    {
      "cell_type": "code",
      "source": [
        "# Guest submits feedback\n",
        "feedback1 = Feedback(\"F1\", guest1, 5, \"Amazing place, very clean and great service!\")\n",
        "print(feedback1.submit_feedback())\n",
        "print(feedback1)\n",
        "\n",
        "# Guest requests room service\n",
        "service_request1 = ServiceRequest(\"S1\", guest1, \"Room Cleaning\")\n",
        "service_request1.submit_request()\n",
        "service_request1.update_status(\"In Progress\")\n",
        "\n",
        "print(service_request1)\n"
      ],
      "metadata": {
        "colab": {
          "base_uri": "https://localhost:8080/"
        },
        "id": "sMINw-uxe_RI",
        "outputId": "20f92470-607f-4ce8-90b0-444e75d57201"
      },
      "execution_count": 8,
      "outputs": [
        {
          "output_type": "stream",
          "name": "stdout",
          "text": [
            "Feedback F1 submitted with rating 5\n",
            "Feedback: 5/5 - Amazing place, very clean and great service!\n",
            "ServiceRequest S1 - Room Cleaning [In Progress]\n"
          ]
        }
      ]
    },
    {
      "cell_type": "code",
      "source": [
        "# Create a guest and room\n",
        "guest2 = Guest(\"2\", \"Sultan Allanjawi\", \"Sultan@gmail.com\", \"055-444-444\")\n",
        "room2 = Room(\"102\", \"Double\", [\"Wi-Fi\", \"TV\"], 120.0)\n",
        "\n",
        "# Create and confirm a reservation\n",
        "reservation2 = Reservation(\"R2\", guest2, room2, date(2025, 4, 5), date(2025, 4, 7))\n",
        "guest2.add_reservation(reservation2)\n",
        "reservation2.confirm_reservation()\n",
        "\n",
        "# Cancel the reservation\n",
        "reservation2.cancel_reservation()\n",
        "\n",
        "# Generate a refund invoice (simulate by using a negative invoice)\n",
        "invoice2 = Invoice(\"Inv2\", reservation2, charges=[], discounts=0)\n",
        "refunded_amount = invoice2.generate_invoice()  # Should still calculate value, but treat it as refund\n",
        "\n",
        "print(reservation2)\n",
        "print(f\"Refund Processed: ${refunded_amount}\")\n",
        "print(room2)  # Room should now be available again"
      ],
      "metadata": {
        "colab": {
          "base_uri": "https://localhost:8080/"
        },
        "id": "B9T9-mmagoCX",
        "outputId": "dab91216-2f0d-4dc7-eb10-3aeaafb72150"
      },
      "execution_count": 9,
      "outputs": [
        {
          "output_type": "stream",
          "name": "stdout",
          "text": [
            "Reservation R2: Cancelled\n",
            "Refund Processed: $240.0\n",
            "Room 102 (Double) - Available\n"
          ]
        }
      ]
    },
    {
      "cell_type": "code",
      "source": [
        "# Create a guest and two rooms\n",
        "guest3 = Guest(\"3\", \"Sultan Allanjawi\", \"Sultan@gmail.com\", \"055-444-444\")\n",
        "room3a = Room(\"103\", \"Single\", [\"Wi-Fi\"], 90.0)\n",
        "room3b = Room(\"104\", \"Suite\", [\"Wi-Fi\", \"TV\", \"Mini-bar\"], 200.0)\n",
        "\n",
        "# Create and confirm two reservations\n",
        "res1 = Reservation(\"R3\", guest3, room3a, date(2025, 5, 1), date(2025, 5, 3))\n",
        "res2 = Reservation(\"R4\", guest3, room3b, date(2025, 6, 1), date(2025, 6, 4))\n",
        "res1.confirm_reservation()\n",
        "res2.confirm_reservation()\n",
        "\n",
        "guest3.add_reservation(res1)\n",
        "guest3.add_reservation(res2)\n",
        "\n",
        "# Display reservation history\n",
        "print(f\"Reservation History for {guest3}\")\n",
        "for r in guest3.view_history():\n",
        "    print(r)\n"
      ],
      "metadata": {
        "colab": {
          "base_uri": "https://localhost:8080/"
        },
        "id": "ViuV81rTh5jC",
        "outputId": "058fe251-1ee4-4c76-fd3f-84972e8828e2"
      },
      "execution_count": 10,
      "outputs": [
        {
          "output_type": "stream",
          "name": "stdout",
          "text": [
            "Reservation History for Guest: Sultan Allanjawi, Email: Sultan@gmail.com\n",
            "Reservation R3: Confirmed\n",
            "Reservation R4: Confirmed\n"
          ]
        }
      ]
    }
  ]
}